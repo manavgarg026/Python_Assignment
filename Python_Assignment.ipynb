{
 "cells": [
  {
   "cell_type": "markdown",
   "id": "361f402b-ac62-4760-99b8-420e6e2d591f",
   "metadata": {},
   "source": [
    "## Q1. Explain with an example each when to use a for loop and a while loop."
   ]
  },
  {
   "cell_type": "markdown",
   "id": "6e9c7c68-b4a9-46f0-a136-81020cc892f5",
   "metadata": {},
   "source": [
    "For loop:-> When we know the number of iterations or when number of iterations is fixed then we can use For loop.\n",
    "Examle:-> want to iterate result of each student in class. Suppose there are 5 students in class and we have to iterate each marks of student and display it in console.\n",
    "    student_marks = [80, 90, 91, 65, 86]\n",
    "    for mark in student_marks:\n",
    "        print(mark, end='')\n",
    "        \n",
    "\n",
    "While loop:- When we don't know the number of iteration or we want the loop to break based condition other than the number of times it runs then we can use While loop.\n",
    "Example:- Taking input from user, it's not fixed which number user will enter.\n",
    "    user_input = input(\"Please enter any number\")\n",
    "    while user_input < 1 :\n",
    "        print(\"OK\")"
   ]
  },
  {
   "cell_type": "code",
   "execution_count": null,
   "id": "7131da1d-2ebf-448b-8d85-42088fd23c7f",
   "metadata": {},
   "outputs": [],
   "source": []
  },
  {
   "cell_type": "markdown",
   "id": "9cbb662c-d983-4eea-8bfe-f1a30e6df3f9",
   "metadata": {},
   "source": [
    "## Q2. Write a python program to print the sum and product of the first 10 natural numbers using for and while loop."
   ]
  },
  {
   "cell_type": "code",
   "execution_count": 5,
   "id": "af8b1e3a-d8c5-49fb-9411-7509359cf59a",
   "metadata": {},
   "outputs": [
    {
     "name": "stdout",
     "output_type": "stream",
     "text": [
      "55\n",
      "3628800\n"
     ]
    }
   ],
   "source": [
    "##For Loop:-> \n",
    "natural_sum = 0\n",
    "natural_product = 1\n",
    "for i in range(1, 11):\n",
    "    natural_sum += i\n",
    "    natural_product *= i\n",
    "print(natural_sum)\n",
    "print(natural_product)"
   ]
  },
  {
   "cell_type": "code",
   "execution_count": 4,
   "id": "685a3540-fe5f-4145-96cd-d3af09fddeca",
   "metadata": {},
   "outputs": [
    {
     "name": "stdout",
     "output_type": "stream",
     "text": [
      "55\n",
      "3628800\n"
     ]
    }
   ],
   "source": [
    "## While Loop:->\n",
    "natural_sum = 0\n",
    "natural_product = 1\n",
    "iteration = 1\n",
    "while(iteration <= 10):\n",
    "    natural_sum += iteration\n",
    "    natural_product *= iteration\n",
    "    iteration += 1\n",
    "print(natural_sum)\n",
    "print(natural_product)"
   ]
  },
  {
   "cell_type": "code",
   "execution_count": null,
   "id": "2e495b38-b4c2-423c-b539-f8602d033cc9",
   "metadata": {},
   "outputs": [],
   "source": []
  },
  {
   "cell_type": "markdown",
   "id": "4407f3b8-0c58-4007-98e8-6a760a2e50b3",
   "metadata": {},
   "source": [
    "## Q3. Create a python program to compute the electricity bill for a household.\n",
    "The per-unit charges in rupees are as follows: For the first 100 units, the user will be charged Rs. 4.5 per\n",
    "unit, for the next 100 units, the user will be charged Rs. 6 per unit, and for the next 100 units, the user will\n",
    "be charged Rs. 10 per unit, After 300 units and above the user will be charged Rs. 20 per unit.\n",
    "You are required to take the units of electricity consumed in a month from the user as input.\n",
    "Your program must pass this test case: when the unit of electricity consumed by the user in a month is\n",
    "310, the total electricity bill should be 2250."
   ]
  },
  {
   "cell_type": "code",
   "execution_count": 13,
   "id": "c3913634-8dda-42e1-8ecd-ce65088a45ce",
   "metadata": {},
   "outputs": [
    {
     "name": "stdin",
     "output_type": "stream",
     "text": [
      "Please enter your this month units:  310\n"
     ]
    },
    {
     "name": "stdout",
     "output_type": "stream",
     "text": [
      "This month units are:  310\n",
      "This month bills is:  2250.0\n"
     ]
    }
   ],
   "source": [
    "per_month_units = int(input(\"Please enter your this month units: \"))\n",
    "print(\"This month units are: \", per_month_units)\n",
    "\n",
    "price_per_units = 0\n",
    "if (per_month_units <= 100):\n",
    "    price_per_units =  per_month_units * 4.5\n",
    "elif (per_month_units <= 200):\n",
    "    price_per_units = ((100 * 4.5) + (per_month_units - 100) * 6)\n",
    "elif (per_month_units <= 300):\n",
    "    price_per_units = ((100 * 4.5) + (100 * 6) + (per_month_units - 200) * 10)\n",
    "elif (per_month_units > 300):\n",
    "    price_per_units = ((100 * 4.5) + (100 * 6) + (100 * 10) + (per_month_units - 300) * 20)\n",
    "    \n",
    "print(\"This month bills is: \", price_per_units)"
   ]
  },
  {
   "cell_type": "code",
   "execution_count": null,
   "id": "ccb3b582-9f84-4cfd-98a0-bc1fc68db10a",
   "metadata": {},
   "outputs": [],
   "source": []
  },
  {
   "cell_type": "markdown",
   "id": "d92ef385-fe21-464d-aa78-4846e3ec35b0",
   "metadata": {},
   "source": [
    "## Q4. Create a list of numbers from 1 to 100. Use for loop and while loop to calculate the cube of each number and if the cube of that number is divisible by 4 or 5 then append that number in a list and print that list."
   ]
  },
  {
   "cell_type": "code",
   "execution_count": 35,
   "id": "ee75ce97-5b4f-42b6-a0b0-fdfab6462fc3",
   "metadata": {},
   "outputs": [
    {
     "name": "stdout",
     "output_type": "stream",
     "text": [
      "[2, 4, 5, 6, 8, 10, 12, 14, 15, 16, 18, 20, 22, 24, 25, 26, 28, 30, 32, 34, 35, 36, 38, 40, 42, 44, 45, 46, 48, 50, 52, 54, 55, 56, 58, 60, 62, 64, 65, 66, 68, 70, 72, 74, 75, 76, 78, 80, 82, 84, 85, 86, 88, 90, 92, 94, 95, 96, 98, 100]\n",
      "[8, 64, 125, 216, 512, 1000, 1728, 2744, 3375, 4096, 5832, 8000, 10648, 13824, 15625, 17576, 21952, 27000, 32768, 39304, 42875, 46656, 54872, 64000, 74088, 85184, 91125, 97336, 110592, 125000, 140608, 157464, 166375, 175616, 195112, 216000, 238328, 262144, 274625, 287496, 314432, 343000, 373248, 405224, 421875, 438976, 474552, 512000, 551368, 592704, 614125, 636056, 681472, 729000, 778688, 830584, 857375, 884736, 941192, 1000000]\n"
     ]
    }
   ],
   "source": [
    "new_non_cube_list=[]\n",
    "new_cube_list = []\n",
    "for i in range(1, 101):\n",
    "    cube_number = i*i*i\n",
    "    if((cube_number % 4 == 0) or (cube_number % 5 == 0)):\n",
    "        new_non_cube_list.append(i)\n",
    "        new_cube_list.append(cube_number)\n",
    "print(new_non_cube_list)\n",
    "print(new_cube_list)"
   ]
  },
  {
   "cell_type": "code",
   "execution_count": null,
   "id": "50030134-c463-41b7-ba8a-11a1db5bf0fa",
   "metadata": {},
   "outputs": [],
   "source": []
  },
  {
   "cell_type": "markdown",
   "id": "61d0f463-6cfc-491b-a4b2-cccd917def4b",
   "metadata": {},
   "source": [
    "## Q5. Write a program to filter count vowels in the below-given string.\n",
    "string = \"I want to become a data scientist\""
   ]
  },
  {
   "cell_type": "code",
   "execution_count": 25,
   "id": "dbd10aee-5911-4fb9-b2bc-212cfbbb5abe",
   "metadata": {},
   "outputs": [
    {
     "name": "stdout",
     "output_type": "stream",
     "text": [
      "12\n"
     ]
    }
   ],
   "source": [
    "vowels = \"aeiou\"\n",
    "string = \"I want to become a data scientist\"\n",
    "length = []\n",
    "\n",
    "for s in string.casefold():\n",
    "    if s in vowels:\n",
    "        length.append(s)\n",
    "print(len(length))"
   ]
  },
  {
   "cell_type": "code",
   "execution_count": null,
   "id": "cfcd6a47-8067-485a-b046-8528aa60d422",
   "metadata": {},
   "outputs": [],
   "source": []
  },
  {
   "cell_type": "code",
   "execution_count": null,
   "id": "65a6e5bc-337f-4ae4-b197-06832470cffb",
   "metadata": {},
   "outputs": [],
   "source": []
  }
 ],
 "metadata": {
  "kernelspec": {
   "display_name": "Python 3 (ipykernel)",
   "language": "python",
   "name": "python3"
  },
  "language_info": {
   "codemirror_mode": {
    "name": "ipython",
    "version": 3
   },
   "file_extension": ".py",
   "mimetype": "text/x-python",
   "name": "python",
   "nbconvert_exporter": "python",
   "pygments_lexer": "ipython3",
   "version": "3.10.4"
  }
 },
 "nbformat": 4,
 "nbformat_minor": 5
}

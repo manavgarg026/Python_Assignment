{
 "cells": [
  {
   "cell_type": "code",
   "execution_count": null,
   "id": "c2aa32f1-7134-45b5-8ecf-e0f6dacd7dc6",
   "metadata": {},
   "outputs": [],
   "source": [
    "Q1. Write a programm to accept percentage from user and display the grade according to the following criteria"
   ]
  },
  {
   "cell_type": "code",
   "execution_count": 4,
   "id": "3d6395bb-951f-4b68-904d-3cfd9441a007",
   "metadata": {},
   "outputs": [
    {
     "name": "stdin",
     "output_type": "stream",
     "text": [
      "Please enter your percentage:  50\n"
     ]
    },
    {
     "name": "stdout",
     "output_type": "stream",
     "text": [
      "D\n"
     ]
    }
   ],
   "source": [
    "percentage = int(input(\"Please enter your percentage: \"))\n",
    "\n",
    "if(percentage > 90):\n",
    "    print(\"A\")\n",
    "elif(percentage > 80 and percentage <= 90):\n",
    "    print(\"B\")\n",
    "elif(percentage >= 60 and percentage <= 80):\n",
    "    print(\"C\")\n",
    "elif(percentage < 60):\n",
    "    print(\"D\")"
   ]
  },
  {
   "cell_type": "code",
   "execution_count": null,
   "id": "eeac95a3-3615-47aa-81fd-48c50cee95ba",
   "metadata": {},
   "outputs": [],
   "source": []
  },
  {
   "cell_type": "code",
   "execution_count": null,
   "id": "c2fe31c6-d5d6-438f-8260-058b7acf66fb",
   "metadata": {},
   "outputs": [],
   "source": [
    "Q2. Write a programm to accept the cost price of the bike and display the road tax to be paid according to the following criteria"
   ]
  },
  {
   "cell_type": "code",
   "execution_count": 5,
   "id": "11d8a696-25fc-4b97-b36e-0924600d389f",
   "metadata": {},
   "outputs": [
    {
     "name": "stdin",
     "output_type": "stream",
     "text": [
      "Please enter the cost price of the bike:  40000\n"
     ]
    },
    {
     "name": "stdout",
     "output_type": "stream",
     "text": [
      "5%\n"
     ]
    }
   ],
   "source": [
    "cost_price = int(input(\"Please enter the cost price of the bike: \"))\n",
    "\n",
    "if(cost_price > 100000):\n",
    "    print(\"15%\")\n",
    "elif(cost_price > 50000 and cost_price <= 100000):\n",
    "    print(\"10%\")\n",
    "elif(cost_price <= 50000):\n",
    "    print(\"5%\")"
   ]
  },
  {
   "cell_type": "code",
   "execution_count": null,
   "id": "f422f55e-31a3-4bef-a16a-ae9f5cb281b5",
   "metadata": {},
   "outputs": [],
   "source": []
  },
  {
   "cell_type": "code",
   "execution_count": null,
   "id": "f68409e8-5141-4193-a1a6-f9696fdafc10",
   "metadata": {},
   "outputs": [],
   "source": [
    "Q3. Accept any city from the user and display monuments of that city"
   ]
  },
  {
   "cell_type": "code",
   "execution_count": 8,
   "id": "99987e03-00f2-4818-98fc-3cde31332518",
   "metadata": {},
   "outputs": [
    {
     "name": "stdin",
     "output_type": "stream",
     "text": [
      "Please enter any city name:  Delhi\n"
     ]
    },
    {
     "name": "stdout",
     "output_type": "stream",
     "text": [
      "Red Fort\n"
     ]
    }
   ],
   "source": [
    "city_name = input(\"Please enter any city name: \")\n",
    "\n",
    "if(city_name == \"Delhi\"):\n",
    "    print(\"Red Fort\")\n",
    "elif(city_name == \"Agra\"):\n",
    "    print(\"Taj Mahal\")\n",
    "elif(city_name == \"Jaipur\"):\n",
    "    print(\"Jal Mahal\")"
   ]
  },
  {
   "cell_type": "code",
   "execution_count": null,
   "id": "13f709a8-3741-4415-be4d-6b2eb3a5154a",
   "metadata": {},
   "outputs": [],
   "source": []
  },
  {
   "cell_type": "code",
   "execution_count": null,
   "id": "bf354394-b6bf-4bd2-a774-e1b670e076b8",
   "metadata": {},
   "outputs": [],
   "source": [
    "Q4. Check how many times a given number can be divided by 3 before it is less than or equal to 10."
   ]
  },
  {
   "cell_type": "code",
   "execution_count": 13,
   "id": "23d891b0-0c76-4c53-a5d8-3957c984e392",
   "metadata": {},
   "outputs": [
    {
     "name": "stdin",
     "output_type": "stream",
     "text": [
      "Please enter any number:  100\n"
     ]
    },
    {
     "name": "stdout",
     "output_type": "stream",
     "text": [
      "Total number of iterations are:  3\n"
     ]
    }
   ],
   "source": [
    "count = 0\n",
    "number = int(input(\"Please enter any number: \"))\n",
    "\n",
    "while(number >= 10):\n",
    "    number /= 3\n",
    "    count += 1\n",
    "\n",
    "print(\"Total number of iterations are: \", count)"
   ]
  },
  {
   "cell_type": "code",
   "execution_count": null,
   "id": "f3eef7a5-bd1a-4ca3-a553-bbd059967ebf",
   "metadata": {},
   "outputs": [],
   "source": []
  },
  {
   "cell_type": "code",
   "execution_count": null,
   "id": "8582411b-b2f2-465a-8e06-45559b030eab",
   "metadata": {},
   "outputs": [],
   "source": [
    "Q5. When and Why to use while loop in Python give a detailed description with example."
   ]
  },
  {
   "cell_type": "code",
   "execution_count": null,
   "id": "16ddd1c5-a771-4497-8f40-71edc4ccfd5b",
   "metadata": {},
   "outputs": [],
   "source": [
    "Python while loop is used to run a block code until a certain condition is met. Here, A while loop evaluates the condition. If the condition evaluates to True , the code inside the while loop is executed.\n",
    "The do while loop is an exit controlled loop, where even if the test condition is false, the loop body will be executed at least once. An example of such a scenario would be when you want to exit your program depending on the user input."
   ]
  },
  {
   "cell_type": "code",
   "execution_count": null,
   "id": "ca95e035-49e4-4903-8fc0-29e5d63d3fd6",
   "metadata": {},
   "outputs": [],
   "source": []
  },
  {
   "cell_type": "code",
   "execution_count": null,
   "id": "c314b4d9-4cf5-4999-847c-a2f7b07e4a6d",
   "metadata": {},
   "outputs": [],
   "source": [
    "Q6. Use nested while loop to print 3 different pattern."
   ]
  },
  {
   "cell_type": "code",
   "execution_count": 19,
   "id": "15ad5b9a-a26d-49c6-b5fa-4239a825f52b",
   "metadata": {},
   "outputs": [
    {
     "name": "stdout",
     "output_type": "stream",
     "text": [
      "1 \n",
      "1 2 \n",
      "1 2 3 \n",
      "1 2 3 4 \n",
      "1 2 3 4 5 \n"
     ]
    }
   ],
   "source": [
    "#Pattern 1\n",
    "i=1\n",
    "while i<=5:\n",
    "    j=1\n",
    "    while j<=i:\n",
    "        print(j,end=\" \")\n",
    "        j=j+1\n",
    "    print(\"\")\n",
    "    i=i+1\n"
   ]
  },
  {
   "cell_type": "code",
   "execution_count": 21,
   "id": "067f42e1-dae9-4d38-afd1-9fe13b445cee",
   "metadata": {},
   "outputs": [
    {
     "name": "stdout",
     "output_type": "stream",
     "text": [
      "* * * * * \n",
      "* * * * \n",
      "* * * \n",
      "* * \n",
      "* \n"
     ]
    }
   ],
   "source": [
    "# Pattern 2\n",
    "i = 1\n",
    "while i <= 5 :\n",
    "    j = 5\n",
    "    while j >= i:\n",
    "        print(\"*\", end = \" \")\n",
    "        j -= 1\n",
    "    print()\n",
    "    i += 1"
   ]
  },
  {
   "cell_type": "code",
   "execution_count": 22,
   "id": "1801012e-52c6-4901-9c67-24eb4d832412",
   "metadata": {},
   "outputs": [
    {
     "name": "stdout",
     "output_type": "stream",
     "text": [
      "  1 \n",
      "  2   3 \n",
      "  4   5   6 \n",
      "  7   8   9  10 \n",
      " 11  12  13  14  15 \n"
     ]
    }
   ],
   "source": [
    "# Pattern 3\n",
    "k = 1\n",
    "i = 1\n",
    "while i <= 5 :\n",
    "    j = 1\n",
    "    while j <= i:\n",
    "        print(\"{:3d}\".format(k), end = \" \")\n",
    "        j += 1\n",
    "        k += 1\n",
    "    print()\n",
    "    i += 1"
   ]
  },
  {
   "cell_type": "code",
   "execution_count": null,
   "id": "134ff4af-c921-479c-9d9b-1119de9df628",
   "metadata": {},
   "outputs": [],
   "source": []
  },
  {
   "cell_type": "code",
   "execution_count": null,
   "id": "d1de2fe8-006e-417c-8e0d-2f7b6cece7f7",
   "metadata": {},
   "outputs": [],
   "source": [
    "Q7. Reverse a while loop to display numbers from 10 to 1."
   ]
  },
  {
   "cell_type": "code",
   "execution_count": 15,
   "id": "fbabf36e-b7e4-40d2-b983-fa23beb6b5b7",
   "metadata": {},
   "outputs": [
    {
     "name": "stdout",
     "output_type": "stream",
     "text": [
      "10\n",
      "9\n",
      "8\n",
      "7\n",
      "6\n",
      "5\n",
      "4\n",
      "3\n",
      "2\n",
      "1\n"
     ]
    }
   ],
   "source": [
    "number = 10\n",
    "while(number != 0):\n",
    "    print(number)\n",
    "    number -= 1"
   ]
  },
  {
   "cell_type": "code",
   "execution_count": null,
   "id": "5239fcbf-7e70-4377-b10d-f006e738d4ba",
   "metadata": {},
   "outputs": [],
   "source": []
  }
 ],
 "metadata": {
  "kernelspec": {
   "display_name": "Python 3 (ipykernel)",
   "language": "python",
   "name": "python3"
  },
  "language_info": {
   "codemirror_mode": {
    "name": "ipython",
    "version": 3
   },
   "file_extension": ".py",
   "mimetype": "text/x-python",
   "name": "python",
   "nbconvert_exporter": "python",
   "pygments_lexer": "ipython3",
   "version": "3.10.4"
  }
 },
 "nbformat": 4,
 "nbformat_minor": 5
}

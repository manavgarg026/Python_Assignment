{
 "cells": [
  {
   "cell_type": "code",
   "execution_count": 1,
   "id": "5b2874de-7d08-43ae-a46c-e0df81d8da2b",
   "metadata": {},
   "outputs": [
    {
     "name": "stdout",
     "output_type": "stream",
     "text": [
      "Object `Language` not found.\n"
     ]
    }
   ],
   "source": [
    "Q1. Who developed Python Programming Language?\n",
    "-> Guido van Rossum"
   ]
  },
  {
   "cell_type": "code",
   "execution_count": null,
   "id": "de09cc51-d4b4-4697-912b-a1c103927fc3",
   "metadata": {},
   "outputs": [],
   "source": [
    "Q2. Which type of Programming does Python support?\n",
    "-> Object-oriented programming and structured programming"
   ]
  },
  {
   "cell_type": "code",
   "execution_count": null,
   "id": "17726db4-4fbe-4a2f-8656-bdeb3b763e14",
   "metadata": {},
   "outputs": [],
   "source": [
    "Q3. Is Python case sensitive when dealing with identifiers?\n",
    "-> Yes"
   ]
  },
  {
   "cell_type": "code",
   "execution_count": null,
   "id": "80862836-31d7-458b-98ca-a28f3e90bbc5",
   "metadata": {},
   "outputs": [],
   "source": [
    "Q4. What is the correct extension of the Python file?\n",
    "-> .py"
   ]
  },
  {
   "cell_type": "code",
   "execution_count": null,
   "id": "2f44961c-662b-41f1-852c-440bcf3a4e49",
   "metadata": {},
   "outputs": [],
   "source": [
    "Q5. Is python code compiled or interpreted?\n",
    "-> Python is both compiled as well as an interpreted language"
   ]
  },
  {
   "cell_type": "code",
   "execution_count": null,
   "id": "93c309b4-1f3c-40d8-bdf2-fd15c5279834",
   "metadata": {},
   "outputs": [],
   "source": [
    "Q6. Name a few blocks of code used to define in Python Language?\n",
    "-> a module, a function body, and a class definition"
   ]
  },
  {
   "cell_type": "code",
   "execution_count": null,
   "id": "a816a471-b936-479b-9591-3ef2f28af79b",
   "metadata": {},
   "outputs": [],
   "source": [
    "Q7. State a character used to give single-line comments in Python?\n",
    "-> Hash character(#)"
   ]
  },
  {
   "cell_type": "code",
   "execution_count": null,
   "id": "2bc5e159-a940-41d9-9a9a-8367a11edad8",
   "metadata": {},
   "outputs": [],
   "source": [
    "Q8. Mention functions which can help us to find the version of Python that we are currently working on?\n",
    "-> sys. version"
   ]
  },
  {
   "cell_type": "code",
   "execution_count": null,
   "id": "d9104ee2-77a6-4f27-a7f6-89781417c68d",
   "metadata": {},
   "outputs": [],
   "source": [
    "Q9. Pyton supports the creation of Anaymous functions at runtime, using a construct called\n",
    "-> lambda "
   ]
  },
  {
   "cell_type": "code",
   "execution_count": null,
   "id": "8ab4fa31-d3d4-478e-9e92-84590feec062",
   "metadata": {},
   "outputs": [],
   "source": [
    "Q10. What does pip stands for python?\n",
    "-> preferred installer program"
   ]
  },
  {
   "cell_type": "code",
   "execution_count": null,
   "id": "f8937090-d8ba-4ed3-a816-2c2ca9445e97",
   "metadata": {},
   "outputs": [],
   "source": [
    "Q11. Mention a few built-in functions in python?\n",
    "-> len(), str(), print(), type(), dir()"
   ]
  },
  {
   "cell_type": "code",
   "execution_count": null,
   "id": "c21c8913-b558-4a88-8ed8-59bc09d70bf2",
   "metadata": {},
   "outputs": [],
   "source": [
    "Q12. What is the maximum possible length of an identifier in python?\n",
    "-> 79 characters"
   ]
  },
  {
   "cell_type": "code",
   "execution_count": null,
   "id": "0ba14a39-92d6-4262-827d-89f42ab4db55",
   "metadata": {},
   "outputs": [],
   "source": [
    "Q13. What are the benefits of using python?\n",
    "->  1. less line of code\n",
    "    2. Easy to Learn and Use\n",
    "    3. Big data, Machine Learning and Cloud Computing"
   ]
  },
  {
   "cell_type": "code",
   "execution_count": null,
   "id": "10292abc-ea55-4653-85d6-668c44d5e6db",
   "metadata": {},
   "outputs": [],
   "source": [
    "Q14. How is memory managed in python?\n",
    "-> Memory management in Python involves a private heap containing all Python objects and data structures"
   ]
  },
  {
   "cell_type": "code",
   "execution_count": null,
   "id": "5b5ee97e-995a-459c-9f39-c95c2c4d917f",
   "metadata": {},
   "outputs": [],
   "source": [
    "Q15. How to install python on windows and set path variables.\n",
    "-> 1. Right-clicking This PC and going to Properties.\n",
    "   2. Clicking on the Advanced system settings in the menu on the left.\n",
    "   3. Clicking on the Environment Variables button o​n the bottom right.\n",
    "   4. In the System variables section, selecting the Path variable and clicking on Edit. The next screen will show all the directories that are currently a part of the PATH variable.\n",
    "   5. Clicking on New and entering Python’s install directory."
   ]
  },
  {
   "cell_type": "code",
   "execution_count": null,
   "id": "d2923059-58a3-4d82-ba7c-6a55ee00055c",
   "metadata": {},
   "outputs": [],
   "source": [
    "Q16. Is Identation required in pyton?\n",
    "-> Yes"
   ]
  },
  {
   "cell_type": "code",
   "execution_count": null,
   "id": "c379d812-214d-4d47-8396-3a87ee36c551",
   "metadata": {},
   "outputs": [],
   "source": []
  },
  {
   "cell_type": "code",
   "execution_count": null,
   "id": "505748c8-196d-40bc-bafc-21ee76aafc3c",
   "metadata": {},
   "outputs": [],
   "source": []
  }
 ],
 "metadata": {
  "kernelspec": {
   "display_name": "Python 3 (ipykernel)",
   "language": "python",
   "name": "python3"
  },
  "language_info": {
   "codemirror_mode": {
    "name": "ipython",
    "version": 3
   },
   "file_extension": ".py",
   "mimetype": "text/x-python",
   "name": "python",
   "nbconvert_exporter": "python",
   "pygments_lexer": "ipython3",
   "version": "3.10.4"
  }
 },
 "nbformat": 4,
 "nbformat_minor": 5
}
